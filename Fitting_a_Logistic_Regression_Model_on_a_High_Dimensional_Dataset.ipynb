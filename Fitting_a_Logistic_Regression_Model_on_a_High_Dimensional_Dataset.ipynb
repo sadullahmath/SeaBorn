{
  "nbformat": 4,
  "nbformat_minor": 0,
  "metadata": {
    "colab": {
      "name": "Fitting a Logistic Regression Model on a High-Dimensional Dataset.ipynb",
      "provenance": [],
      "authorship_tag": "ABX9TyN3K26+ZQXw5gGPAq6qkrwg",
      "include_colab_link": true
    },
    "kernelspec": {
      "name": "python3",
      "display_name": "Python 3"
    }
  },
  "cells": [
    {
      "cell_type": "markdown",
      "metadata": {
        "id": "view-in-github",
        "colab_type": "text"
      },
      "source": [
        "<a href=\"https://colab.research.google.com/github/sadullahmath/SeaBorn/blob/master/Fitting_a_Logistic_Regression_Model_on_a_High_Dimensional_Dataset.ipynb\" target=\"_parent\"><img src=\"https://colab.research.google.com/assets/colab-badge.svg\" alt=\"Open In Colab\"/></a>"
      ]
    },
    {
      "cell_type": "markdown",
      "metadata": {
        "id": "dPXIv5jz9Qms",
        "colab_type": "text"
      },
      "source": [
        "# Fitting a Logistic Regression Model on a High-Dimensional Dataset"
      ]
    },
    {
      "cell_type": "code",
      "metadata": {
        "id": "WHpD9r0n9Qs7",
        "colab_type": "code",
        "colab": {}
      },
      "source": [
        "import pandas as pd\n",
        "import numpy as np"
      ],
      "execution_count": 0,
      "outputs": []
    },
    {
      "cell_type": "code",
      "metadata": {
        "id": "Z7Fh6kO_9QvP",
        "colab_type": "code",
        "colab": {
          "base_uri": "https://localhost:8080/",
          "height": 102
        },
        "outputId": "e4f4dc7e-fce8-49a9-af38-337108804b0f"
      },
      "source": [
        "# Creating a simple data frame\n",
        "df = pd.np.array([[1, 2, 3], [4, 5, 6]])\n",
        "print(df.shape)\n",
        "df"
      ],
      "execution_count": 24,
      "outputs": [
        {
          "output_type": "stream",
          "text": [
            "(2, 3)\n"
          ],
          "name": "stdout"
        },
        {
          "output_type": "stream",
          "text": [
            "/usr/local/lib/python3.6/dist-packages/ipykernel_launcher.py:1: FutureWarning: The pandas.np module is deprecated and will be removed from pandas in a future version. Import numpy directly instead\n",
            "  \"\"\"Entry point for launching an IPython kernel.\n"
          ],
          "name": "stderr"
        },
        {
          "output_type": "execute_result",
          "data": {
            "text/plain": [
              "array([[1, 2, 3],\n",
              "       [4, 5, 6]])"
            ]
          },
          "metadata": {
            "tags": []
          },
          "execution_count": 24
        }
      ]
    },
    {
      "cell_type": "code",
      "metadata": {
        "id": "j8y-KAg29Qxh",
        "colab_type": "code",
        "colab": {
          "base_uri": "https://localhost:8080/",
          "height": 136
        },
        "outputId": "34bcba50-3c6e-4aae-940b-3d8ddde305a7"
      },
      "source": [
        "# # Replicating the data frame and noting the time\n",
        "import time\n",
        "# Starting a timing function\n",
        "t0=time.time()\n",
        "Newdf = pd.DataFrame(pd.np.tile(df, (1, 5)))\n",
        "print(Newdf.shape)\n",
        "print(Newdf)\n",
        "# Finding the end time \n",
        "print(\"Total time:\", round(time.time()-t0, 3), \"s\")"
      ],
      "execution_count": 25,
      "outputs": [
        {
          "output_type": "stream",
          "text": [
            "(2, 15)\n",
            "   0  1  2  3  4  5  6  7  8  9  10  11  12  13  14\n",
            "0  1  2  3  1  2  3  1  2  3  1   2   3   1   2   3\n",
            "1  4  5  6  4  5  6  4  5  6  4   5   6   4   5   6\n",
            "Total time: 0.025 s\n"
          ],
          "name": "stdout"
        },
        {
          "output_type": "stream",
          "text": [
            "/usr/local/lib/python3.6/dist-packages/ipykernel_launcher.py:4: FutureWarning: The pandas.np module is deprecated and will be removed from pandas in a future version. Import numpy directly instead\n",
            "  after removing the cwd from sys.path.\n"
          ],
          "name": "stderr"
        }
      ]
    },
    {
      "cell_type": "code",
      "metadata": {
        "id": "Y4L_7sM29Qzq",
        "colab_type": "code",
        "colab": {}
      },
      "source": [
        "# Defining the file name from GitHub\n",
        "filename = 'https://raw.githubusercontent.com/PacktWorkshops/The-Data-Science-Workshop/master/Chapter14/Dataset/ad.data'"
      ],
      "execution_count": 0,
      "outputs": []
    },
    {
      "cell_type": "code",
      "metadata": {
        "id": "Rw9QXylG9Q1L",
        "colab_type": "code",
        "colab": {
          "base_uri": "https://localhost:8080/",
          "height": 51
        },
        "outputId": "8f30ee17-b68b-486c-bb90-3cf540b512d7"
      },
      "source": [
        "# import pandas as pd\n",
        "# Loading the data using pandas\n",
        "adData = pd.read_csv(filename,sep=\",\",header = None,error_bad_lines=False)"
      ],
      "execution_count": 27,
      "outputs": [
        {
          "output_type": "stream",
          "text": [
            "/usr/local/lib/python3.6/dist-packages/IPython/core/interactiveshell.py:2718: DtypeWarning: Columns (3) have mixed types.Specify dtype option on import or set low_memory=False.\n",
            "  interactivity=interactivity, compiler=compiler, result=result)\n"
          ],
          "name": "stderr"
        }
      ]
    },
    {
      "cell_type": "code",
      "metadata": {
        "id": "aHTYIBG49mYf",
        "colab_type": "code",
        "colab": {
          "base_uri": "https://localhost:8080/",
          "height": 51
        },
        "outputId": "c9950112-672d-4c6e-92ba-91a55fd8d4c1"
      },
      "source": [
        "# Creating a high dimension dataset\n",
        "X_hd = pd.DataFrame(pd.np.tile(adData, (1, 500)))"
      ],
      "execution_count": 0,
      "outputs": [
        {
          "output_type": "stream",
          "text": [
            "/usr/local/lib/python3.6/dist-packages/ipykernel_launcher.py:1: FutureWarning: The pandas.np module is deprecated and will be removed from pandas in a future version. Import numpy directly instead\n",
            "  \"\"\"Entry point for launching an IPython kernel.\n"
          ],
          "name": "stderr"
        }
      ]
    },
    {
      "cell_type": "code",
      "metadata": {
        "id": "JKtNhmNV9mat",
        "colab_type": "code",
        "colab": {}
      },
      "source": [
        ""
      ],
      "execution_count": 0,
      "outputs": []
    },
    {
      "cell_type": "code",
      "metadata": {
        "id": "vvinhll09mdK",
        "colab_type": "code",
        "colab": {}
      },
      "source": [
        ""
      ],
      "execution_count": 0,
      "outputs": []
    }
  ]
}
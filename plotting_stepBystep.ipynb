{
  "nbformat": 4,
  "nbformat_minor": 0,
  "metadata": {
    "colab": {
      "name": "plotting_stepBystep.ipynb",
      "provenance": [],
      "authorship_tag": "ABX9TyOf8Q5m3CNA/mUWn9u47Ee8",
      "include_colab_link": true
    },
    "kernelspec": {
      "name": "python3",
      "display_name": "Python 3"
    }
  },
  "cells": [
    {
      "cell_type": "markdown",
      "metadata": {
        "id": "view-in-github",
        "colab_type": "text"
      },
      "source": [
        "<a href=\"https://colab.research.google.com/github/sadullahmath/SeaBorn/blob/master/plotting_stepBystep.ipynb\" target=\"_parent\"><img src=\"https://colab.research.google.com/assets/colab-badge.svg\" alt=\"Open In Colab\"/></a>"
      ]
    },
    {
      "cell_type": "code",
      "metadata": {
        "id": "_HaTpqz3_0o_",
        "colab_type": "code",
        "colab": {}
      },
      "source": [
        "import matplotlib.pyplot as plt"
      ],
      "execution_count": 0,
      "outputs": []
    },
    {
      "cell_type": "code",
      "metadata": {
        "id": "z5DrlJbkZoHz",
        "colab_type": "code",
        "colab": {
          "base_uri": "https://localhost:8080/",
          "height": 68
        },
        "outputId": "72958031-b862-45c7-8d56-efcdda6c07d6"
      },
      "source": [
        "plt.figure(figsize=(10, 5)) #To change the width and the height\n",
        "plt.figure(dpi=300) #To change the dpi"
      ],
      "execution_count": 3,
      "outputs": [
        {
          "output_type": "execute_result",
          "data": {
            "text/plain": [
              "<Figure size 1800x1200 with 0 Axes>"
            ]
          },
          "metadata": {
            "tags": []
          },
          "execution_count": 3
        },
        {
          "output_type": "display_data",
          "data": {
            "text/plain": [
              "<Figure size 720x360 with 0 Axes>"
            ]
          },
          "metadata": {
            "tags": []
          }
        },
        {
          "output_type": "display_data",
          "data": {
            "text/plain": [
              "<Figure size 1800x1200 with 0 Axes>"
            ]
          },
          "metadata": {
            "tags": []
          }
        }
      ]
    },
    {
      "cell_type": "code",
      "metadata": {
        "id": "nM5Slls9ZoKi",
        "colab_type": "code",
        "colab": {
          "base_uri": "https://localhost:8080/",
          "height": 51
        },
        "outputId": "ea3fdb40-4720-4d0d-aaad-3ada9f707069"
      },
      "source": [
        "plt.gcf().number"
      ],
      "execution_count": 4,
      "outputs": [
        {
          "output_type": "execute_result",
          "data": {
            "text/plain": [
              "1"
            ]
          },
          "metadata": {
            "tags": []
          },
          "execution_count": 4
        },
        {
          "output_type": "display_data",
          "data": {
            "text/plain": [
              "<Figure size 432x288 with 0 Axes>"
            ]
          },
          "metadata": {
            "tags": []
          }
        }
      ]
    },
    {
      "cell_type": "code",
      "metadata": {
        "id": "rhrO5GGXZoM0",
        "colab_type": "code",
        "colab": {}
      },
      "source": [
        "plt.figure(num=10) #Create Figure with Figure number 10\n",
        "plt.close(10) #Close Figure with Figure number 10"
      ],
      "execution_count": 0,
      "outputs": []
    },
    {
      "cell_type": "code",
      "metadata": {
        "id": "8IMDH39IZoQH",
        "colab_type": "code",
        "colab": {
          "base_uri": "https://localhost:8080/",
          "height": 282
        },
        "outputId": "cb40a65c-b060-4fe2-b802-5c41dd12db86"
      },
      "source": [
        "plt.plot([2, 4, 6, 8], color='blue', marker='o', linestyle='dashed', linewidth=2, markersize=12)"
      ],
      "execution_count": 6,
      "outputs": [
        {
          "output_type": "execute_result",
          "data": {
            "text/plain": [
              "[<matplotlib.lines.Line2D at 0x7f3095fe1fd0>]"
            ]
          },
          "metadata": {
            "tags": []
          },
          "execution_count": 6
        },
        {
          "output_type": "display_data",
          "data": {
            "image/png": "[encoded data removed]",
            "text/plain": [
              "<Figure size 432x288 with 1 Axes>"
            ]
          },
          "metadata": {
            "tags": [],
            "needs_background": "light"
          }
        }
      ]
    },
    {
      "cell_type": "code",
      "metadata": {
        "id": "Oe653PGQZoUy",
        "colab_type": "code",
        "colab": {
          "base_uri": "https://localhost:8080/",
          "height": 296
        },
        "outputId": "bac7d96f-c0d6-4f70-8571-b6ae45265155"
      },
      "source": [
        "import numpy as np\n",
        "\n",
        "plt.figure(figsize=(6, 3))\n",
        "plt.plot([2, 4, 6, 8], 'o', [1, 5, 9, 13], 's')\n",
        "plt.xticks(ticks=np.arange(4))"
      ],
      "execution_count": 10,
      "outputs": [
        {
          "output_type": "execute_result",
          "data": {
            "text/plain": [
              "([<matplotlib.axis.XTick at 0x7f3095b29f28>,\n",
              "  <matplotlib.axis.XTick at 0x7f3095b29208>,\n",
              "  <matplotlib.axis.XTick at 0x7f3095a4e3c8>,\n",
              "  <matplotlib.axis.XTick at 0x7f3095a7db70>],\n",
              " <a list of 4 Text major ticklabel objects>)"
            ]
          },
          "metadata": {
            "tags": []
          },
          "execution_count": 10
        },
        {
          "output_type": "display_data",
          "data": {
            "image/png": "[encoded data removed]",
            "text/plain": [
              "<Figure size 432x216 with 1 Axes>"
            ]
          },
          "metadata": {
            "tags": [],
            "needs_background": "light"
          }
        }
      ]
    },
    {
      "cell_type": "code",
      "metadata": {
        "id": "tY1zOAW3bMNR",
        "colab_type": "code",
        "colab": {
          "base_uri": "https://localhost:8080/",
          "height": 362
        },
        "outputId": "dfd35cf8-b64f-41d1-c088-950a22a7ce4e"
      },
      "source": [
        "plt.figure(figsize=(6, 3))\n",
        "plt.plot([2, 4, 6, 8], 'o', [1, 5, 9, 13], 's')\n",
        "plt.xticks(ticks=np.arange(4), labels=['January', 'February', 'March', 'April'], rotation=20)"
      ],
      "execution_count": 11,
      "outputs": [
        {
          "output_type": "execute_result",
          "data": {
            "text/plain": [
              "([<matplotlib.axis.XTick at 0x7f30959ec390>,\n",
              "  <matplotlib.axis.XTick at 0x7f30959ec358>,\n",
              "  <matplotlib.axis.XTick at 0x7f30959e7da0>,\n",
              "  <matplotlib.axis.XTick at 0x7f3095a0bf60>],\n",
              " [Text(0, 0, 'January'),\n",
              "  Text(0, 0, 'February'),\n",
              "  Text(0, 0, 'March'),\n",
              "  Text(0, 0, 'April')])"
            ]
          },
          "metadata": {
            "tags": []
          },
          "execution_count": 11
        },
        {
          "output_type": "display_data",
          "data": {
            "image/png": "[encoded data removed]",
            "text/plain": [
              "<Figure size 432x216 with 1 Axes>"
            ]
          },
          "metadata": {
            "tags": [],
            "needs_background": "light"
          }
        }
      ]
    },
    {
      "cell_type": "code",
      "metadata": {
        "id": "AR0hl99FbMPp",
        "colab_type": "code",
        "colab": {
          "base_uri": "https://localhost:8080/",
          "height": 265
        },
        "outputId": "99164086-e741-44a7-84bf-da318cdcd6c9"
      },
      "source": [
        "plt.figure()\n",
        "plt.plot([1, 2, 4, 5], [1, 3, 4, 3], '-o')\n",
        "plt.savefig('lineplot.png', dpi=300, bbox_inches='tight')\n",
        "#bbox_inches='tight' removes the outer white margins"
      ],
      "execution_count": 12,
      "outputs": [
        {
          "output_type": "display_data",
          "data": {
            "image/png": "[encoded data removed]",
            "text/plain": [
              "<Figure size 432x288 with 1 Axes>"
            ]
          },
          "metadata": {
            "tags": [],
            "needs_background": "light"
          }
        }
      ]
    },
    {
      "cell_type": "code",
      "metadata": {
        "id": "4X7WiaIYbMR-",
        "colab_type": "code",
        "colab": {}
      },
      "source": [
        ""
      ],
      "execution_count": 0,
      "outputs": []
    }
  ]
}
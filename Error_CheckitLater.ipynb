{
  "nbformat": 4,
  "nbformat_minor": 0,
  "metadata": {
    "colab": {
      "name": "Error-CheckitLater.ipynb",
      "provenance": [],
      "authorship_tag": "ABX9TyNBPffwgZg018bhcW0wlscd",
      "include_colab_link": true
    },
    "kernelspec": {
      "name": "python3",
      "display_name": "Python 3"
    }
  },
  "cells": [
    {
      "cell_type": "markdown",
      "metadata": {
        "id": "view-in-github",
        "colab_type": "text"
      },
      "source": [
        "<a href=\"https://colab.research.google.com/github/sadullahmath/SeaBorn/blob/master/Error_CheckitLater.ipynb\" target=\"_parent\"><img src=\"https://colab.research.google.com/assets/colab-badge.svg\" alt=\"Open In Colab\"/></a>"
      ]
    },
    {
      "cell_type": "code",
      "metadata": {
        "id": "3iiW_PuFZtsh",
        "colab_type": "code",
        "colab": {}
      },
      "source": [
        "filename = '/content/drive/My Drive/Packt_Colab/bank-full.csv'"
      ],
      "execution_count": 0,
      "outputs": []
    },
    {
      "cell_type": "code",
      "metadata": {
        "id": "6--HQsGTZtqf",
        "colab_type": "code",
        "colab": {}
      },
      "source": [
        "from dfply import *\n",
        "from ggplot import *"
      ],
      "execution_count": 0,
      "outputs": []
    },
    {
      "cell_type": "code",
      "metadata": {
        "id": "zEU29O5GZtmZ",
        "colab_type": "code",
        "colab": {}
      },
      "source": [
        "bankData = pd.read_csv(filename,sep=\";\")"
      ],
      "execution_count": 0,
      "outputs": []
    },
    {
      "cell_type": "code",
      "metadata": {
        "id": "uHbPp61HaFzA",
        "colab_type": "code",
        "colab": {}
      },
      "source": [
        "# Getting the total counts under each job category\n",
        "jobTot = (bankData >> group_by(X.job) >> summarise(jobTot = X.y.count()))\n",
        "jobTot"
      ],
      "execution_count": 0,
      "outputs": []
    },
    {
      "cell_type": "code",
      "metadata": {
        "id": "f6kTUd3faF1j",
        "colab_type": "code",
        "colab": {}
      },
      "source": [
        "# Getting all the details in one place\n",
        "jobProp = (bankData >> group_by(X.job,X.y) >> summarise(jobCat = X.y.count()))"
      ],
      "execution_count": 0,
      "outputs": []
    },
    {
      "cell_type": "code",
      "metadata": {
        "id": "TKB5CWXBaKmr",
        "colab_type": "code",
        "colab": {}
      },
      "source": [
        "# Merging both the data frames\n",
        "jobComb = (pd.merge(jobProp,jobTot,left_on = ['job'],right_on = ['job']) >> mutate(catProp = (X.jobCat/X.jobTot)*100))"
      ],
      "execution_count": 0,
      "outputs": []
    },
    {
      "cell_type": "code",
      "metadata": {
        "id": "3HEJrC77aKpc",
        "colab_type": "code",
        "colab": {}
      },
      "source": [
        "import matplotlib.pyplot as plt"
      ],
      "execution_count": 0,
      "outputs": []
    },
    {
      "cell_type": "code",
      "metadata": {
        "id": "fJuuLam1aOqh",
        "colab_type": "code",
        "colab": {}
      },
      "source": [
        "jobcombYes = (jobComb>> mask(X.y == 'yes'))\n",
        "jobcombNo = (jobComb>> mask(X.y == 'no'))"
      ],
      "execution_count": 0,
      "outputs": []
    },
    {
      "cell_type": "code",
      "metadata": {
        "id": "LnPRI5osaOtA",
        "colab_type": "code",
        "colab": {}
      },
      "source": [
        "xlabels = len(list(jobTot['job']))"
      ],
      "execution_count": 0,
      "outputs": []
    },
    {
      "cell_type": "code",
      "metadata": {
        "id": "14dMYNfGaTLY",
        "colab_type": "code",
        "colab": {}
      },
      "source": [
        "jobYes = list(jobcombYes['catProp'])\n",
        "jobNo = list(jobcombNo['catProp'])"
      ],
      "execution_count": 0,
      "outputs": []
    },
    {
      "cell_type": "code",
      "metadata": {
        "id": "I4aCZaUwaTOM",
        "colab_type": "code",
        "colab": {}
      },
      "source": [
        "ind = np.arange(xlabels)\n",
        "# Get the width of each bar\n",
        "width = 0.35  \n",
        "# Getting the plots\n",
        "p1 = plt.bar(ind, jobYes, width)\n",
        "p2 = plt.bar(ind, jobNo, width,bottom=jobYes)\n",
        "plt.ylabel('Propensity Proportion')\n",
        "plt.title('Propensity of purchase by Job')"
      ],
      "execution_count": 0,
      "outputs": []
    },
    {
      "cell_type": "code",
      "metadata": {
        "id": "XICgK4uoaXRy",
        "colab_type": "code",
        "colab": {}
      },
      "source": [
        "plt.xticks(ind, list(jobTot['job']))\n",
        "plt.yticks(np.arange(0, 100, 10))"
      ],
      "execution_count": 0,
      "outputs": []
    },
    {
      "cell_type": "code",
      "metadata": {
        "id": "GC4eNwBFaXUY",
        "colab_type": "code",
        "colab": {}
      },
      "source": [
        "plt.legend((p1[0], p2[0]), ('Yes', 'No'))\n",
        "# To rotate the axis labels\n",
        "plt.xticks(rotation=90)\n",
        "plt.show()"
      ],
      "execution_count": 0,
      "outputs": []
    }
  ]
}
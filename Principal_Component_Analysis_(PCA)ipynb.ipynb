{
  "nbformat": 4,
  "nbformat_minor": 0,
  "metadata": {
    "colab": {
      "name": "Principal Component Analysis (PCA)ipynb",
      "provenance": [],
      "authorship_tag": "ABX9TyNf3IzGBoezHyPa3rs3ZDP1",
      "include_colab_link": true
    },
    "kernelspec": {
      "name": "python3",
      "display_name": "Python 3"
    }
  },
  "cells": [
    {
      "cell_type": "markdown",
      "metadata": {
        "id": "view-in-github",
        "colab_type": "text"
      },
      "source": [
        "<a href=\"https://colab.research.google.com/github/sadullahmath/SeaBorn/blob/master/Principal_Component_Analysis_(PCA)ipynb.ipynb\" target=\"_parent\"><img src=\"https://colab.research.google.com/assets/colab-badge.svg\" alt=\"Open In Colab\"/></a>"
      ]
    },
    {
      "cell_type": "markdown",
      "metadata": {
        "id": "w0_cde3Y_W2w",
        "colab_type": "text"
      },
      "source": [
        "# Principal Component Analysis (PCA)"
      ]
    },
    {
      "cell_type": "code",
      "metadata": {
        "id": "NKkldPJM_XKe",
        "colab_type": "code",
        "colab": {
          "base_uri": "https://localhost:8080/",
          "height": 34
        },
        "outputId": "75ef82d9-985e-4b70-ac45-7d2e2bbcb860"
      },
      "source": [
        "import numpy as np\n",
        "# Setting the seed for reproducibility\n",
        "seed = np.random.RandomState(123)\n",
        "# Generating an array of random numbers\n",
        "X = seed.rand(100,2)\n",
        "# Printing the shape of the dataset\n",
        "X.shape"
      ],
      "execution_count": 1,
      "outputs": [
        {
          "output_type": "execute_result",
          "data": {
            "text/plain": [
              "(100, 2)"
            ]
          },
          "metadata": {
            "tags": []
          },
          "execution_count": 1
        }
      ]
    },
    {
      "cell_type": "code",
      "metadata": {
        "id": "QM5oIvjk_XNA",
        "colab_type": "code",
        "colab": {
          "base_uri": "https://localhost:8080/",
          "height": 333
        },
        "outputId": "9ae485a4-c671-4700-c4a4-49be2d8eb88a"
      },
      "source": [
        "import matplotlib.pyplot as plt\n",
        "%matplotlib inline\n",
        "\n",
        "plt.scatter(X[:, 0], X[:, 1])\n",
        "plt.axis('equal')"
      ],
      "execution_count": 2,
      "outputs": [
        {
          "output_type": "execute_result",
          "data": {
            "text/plain": [
              "(-0.04635361265714105,\n",
              " 1.0325632864350172,\n",
              " -0.003996887112708299,\n",
              " 1.0429468329457663)"
            ]
          },
          "metadata": {
            "tags": []
          },
          "execution_count": 2
        },
        {
          "output_type": "display_data",
          "data": {
            "image/png": "[encoded data removed]",
            "text/plain": [
              "<Figure size 432x288 with 1 Axes>"
            ]
          },
          "metadata": {
            "tags": [],
            "needs_background": "light"
          }
        }
      ]
    },
    {
      "cell_type": "code",
      "metadata": {
        "id": "_Ra11ICv_XRU",
        "colab_type": "code",
        "colab": {
          "base_uri": "https://localhost:8080/",
          "height": 51
        },
        "outputId": "85197701-386a-43eb-a306-9036e7d970ff"
      },
      "source": [
        "from sklearn.decomposition import PCA \n",
        "\n",
        "# Defining one component \n",
        "pca = PCA(n_components=1) \n",
        "\n",
        "# Fitting the PCA function \n",
        "pca.fit(X) \n",
        "\n",
        "# Getting the new dataset \n",
        "X_pca = pca.transform(X) \n",
        "\n",
        "# Printing the shapes \n",
        "print(\"Original data set: \", X.shape) \n",
        "print(\"Data set after transformation:\", X_pca.shape) "
      ],
      "execution_count": 3,
      "outputs": [
        {
          "output_type": "stream",
          "text": [
            "Original data set:  (100, 2)\n",
            "Data set after transformation: (100, 1)\n"
          ],
          "name": "stdout"
        }
      ]
    },
    {
      "cell_type": "code",
      "metadata": {
        "id": "LGX9ys87_XTc",
        "colab_type": "code",
        "colab": {
          "base_uri": "https://localhost:8080/",
          "height": 265
        },
        "outputId": "be0244ec-8815-4fad-be50-2879123a583a"
      },
      "source": [
        "# Reversing the transformation and plotting\n",
        "X_reverse = pca.inverse_transform(X_pca)\n",
        "\n",
        "# Plotting the original data\n",
        "plt.scatter(X[:, 0], X[:, 1], alpha=0.1)\n",
        "\n",
        "# Plotting the reversed data\n",
        "plt.scatter(X_reverse[:, 0], X_reverse[:, 1], alpha=0.9)\n",
        "plt.axis('equal');"
      ],
      "execution_count": 5,
      "outputs": [
        {
          "output_type": "display_data",
          "data": {
            "image/png": "[encoded data removed]",
            "text/plain": [
              "<Figure size 432x288 with 1 Axes>"
            ]
          },
          "metadata": {
            "tags": [],
            "needs_background": "light"
          }
        }
      ]
    },
    {
      "cell_type": "code",
      "metadata": {
        "id": "MoIDigOF_XVm",
        "colab_type": "code",
        "colab": {}
      },
      "source": [
        ""
      ],
      "execution_count": 0,
      "outputs": []
    }
  ]
}
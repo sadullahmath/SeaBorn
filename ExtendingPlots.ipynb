{
  "nbformat": 4,
  "nbformat_minor": 0,
  "metadata": {
    "colab": {
      "name": "ExtendingPlots.ipynb",
      "provenance": [],
      "authorship_tag": "ABX9TyMxRkBYWqxOpk4/aXAIWTXy",
      "include_colab_link": true
    },
    "kernelspec": {
      "name": "python3",
      "display_name": "Python 3"
    }
  },
  "cells": [
    {
      "cell_type": "markdown",
      "metadata": {
        "id": "view-in-github",
        "colab_type": "text"
      },
      "source": [
        "<a href=\"https://colab.research.google.com/github/sadullahmath/SeaBorn/blob/master/ExtendingPlots.ipynb\" target=\"_parent\"><img src=\"https://colab.research.google.com/assets/colab-badge.svg\" alt=\"Open In Colab\"/></a>"
      ]
    },
    {
      "cell_type": "markdown",
      "metadata": {
        "id": "vqOyeFuT7Jul",
        "colab_type": "text"
      },
      "source": [
        "# Extending Plots with Widgets"
      ]
    },
    {
      "cell_type": "code",
      "metadata": {
        "id": "eW0b3uB_7KJj",
        "colab_type": "code",
        "colab": {}
      },
      "source": [
        "import pandas as pd"
      ],
      "execution_count": 0,
      "outputs": []
    },
    {
      "cell_type": "code",
      "metadata": {
        "id": "yasrRzq-7KL_",
        "colab_type": "code",
        "colab": {}
      },
      "source": [
        "from bokeh.io import output_notebook\n",
        "output_notebook()"
      ],
      "execution_count": 0,
      "outputs": []
    },
    {
      "cell_type": "code",
      "metadata": {
        "id": "8-DGub8C7KP6",
        "colab_type": "code",
        "colab": {}
      },
      "source": [
        "dataset= pd.read_csv('https://raw.githubusercontent.com/PacktWorkshops/The-Data-Visualization-Workshop/master/Datasets/olympia2016_athletes.csv')"
      ],
      "execution_count": 0,
      "outputs": []
    },
    {
      "cell_type": "code",
      "metadata": {
        "id": "Mos3nsIq7KRz",
        "colab_type": "code",
        "colab": {
          "base_uri": "https://localhost:8080/",
          "height": 359
        },
        "outputId": "5eadc8cd-f436-4ded-9a1f-b8c4b06066c2"
      },
      "source": [
        "dataset.head(10)"
      ],
      "execution_count": 4,
      "outputs": [
        {
          "output_type": "execute_result",
          "data": {
            "text/html": [
              "<div>\n",
              "<style scoped>\n",
              "    .dataframe tbody tr th:only-of-type {\n",
              "        vertical-align: middle;\n",
              "    }\n",
              "\n",
              "    .dataframe tbody tr th {\n",
              "        vertical-align: top;\n",
              "    }\n",
              "\n",
              "    .dataframe thead th {\n",
              "        text-align: right;\n",
              "    }\n",
              "</style>\n",
              "<table border=\"1\" class=\"dataframe\">\n",
              "  <thead>\n",
              "    <tr style=\"text-align: right;\">\n",
              "      <th></th>\n",
              "      <th>id</th>\n",
              "      <th>name</th>\n",
              "      <th>nationality</th>\n",
              "      <th>sex</th>\n",
              "      <th>dob</th>\n",
              "      <th>height</th>\n",
              "      <th>weight</th>\n",
              "      <th>sport</th>\n",
              "      <th>gold</th>\n",
              "      <th>silver</th>\n",
              "      <th>bronze</th>\n",
              "    </tr>\n",
              "  </thead>\n",
              "  <tbody>\n",
              "    <tr>\n",
              "      <th>0</th>\n",
              "      <td>736041664</td>\n",
              "      <td>A Jesus Garcia</td>\n",
              "      <td>ESP</td>\n",
              "      <td>male</td>\n",
              "      <td>10/17/69</td>\n",
              "      <td>1.72</td>\n",
              "      <td>64.0</td>\n",
              "      <td>athletics</td>\n",
              "      <td>0</td>\n",
              "      <td>0</td>\n",
              "      <td>0</td>\n",
              "    </tr>\n",
              "    <tr>\n",
              "      <th>1</th>\n",
              "      <td>532037425</td>\n",
              "      <td>A Lam Shin</td>\n",
              "      <td>KOR</td>\n",
              "      <td>female</td>\n",
              "      <td>9/23/86</td>\n",
              "      <td>1.68</td>\n",
              "      <td>56.0</td>\n",
              "      <td>fencing</td>\n",
              "      <td>0</td>\n",
              "      <td>0</td>\n",
              "      <td>0</td>\n",
              "    </tr>\n",
              "    <tr>\n",
              "      <th>2</th>\n",
              "      <td>435962603</td>\n",
              "      <td>Aaron Brown</td>\n",
              "      <td>CAN</td>\n",
              "      <td>male</td>\n",
              "      <td>5/27/92</td>\n",
              "      <td>1.98</td>\n",
              "      <td>79.0</td>\n",
              "      <td>athletics</td>\n",
              "      <td>0</td>\n",
              "      <td>0</td>\n",
              "      <td>1</td>\n",
              "    </tr>\n",
              "    <tr>\n",
              "      <th>3</th>\n",
              "      <td>521041435</td>\n",
              "      <td>Aaron Cook</td>\n",
              "      <td>MDA</td>\n",
              "      <td>male</td>\n",
              "      <td>1/2/91</td>\n",
              "      <td>1.83</td>\n",
              "      <td>80.0</td>\n",
              "      <td>taekwondo</td>\n",
              "      <td>0</td>\n",
              "      <td>0</td>\n",
              "      <td>0</td>\n",
              "    </tr>\n",
              "    <tr>\n",
              "      <th>4</th>\n",
              "      <td>33922579</td>\n",
              "      <td>Aaron Gate</td>\n",
              "      <td>NZL</td>\n",
              "      <td>male</td>\n",
              "      <td>11/26/90</td>\n",
              "      <td>1.81</td>\n",
              "      <td>71.0</td>\n",
              "      <td>cycling</td>\n",
              "      <td>0</td>\n",
              "      <td>0</td>\n",
              "      <td>0</td>\n",
              "    </tr>\n",
              "    <tr>\n",
              "      <th>5</th>\n",
              "      <td>173071782</td>\n",
              "      <td>Aaron Royle</td>\n",
              "      <td>AUS</td>\n",
              "      <td>male</td>\n",
              "      <td>1/26/90</td>\n",
              "      <td>1.80</td>\n",
              "      <td>67.0</td>\n",
              "      <td>triathlon</td>\n",
              "      <td>0</td>\n",
              "      <td>0</td>\n",
              "      <td>0</td>\n",
              "    </tr>\n",
              "    <tr>\n",
              "      <th>6</th>\n",
              "      <td>266237702</td>\n",
              "      <td>Aaron Russell</td>\n",
              "      <td>USA</td>\n",
              "      <td>male</td>\n",
              "      <td>6/4/93</td>\n",
              "      <td>2.05</td>\n",
              "      <td>98.0</td>\n",
              "      <td>volleyball</td>\n",
              "      <td>0</td>\n",
              "      <td>0</td>\n",
              "      <td>1</td>\n",
              "    </tr>\n",
              "    <tr>\n",
              "      <th>7</th>\n",
              "      <td>382571888</td>\n",
              "      <td>Aaron Younger</td>\n",
              "      <td>AUS</td>\n",
              "      <td>male</td>\n",
              "      <td>9/25/91</td>\n",
              "      <td>1.93</td>\n",
              "      <td>100.0</td>\n",
              "      <td>aquatics</td>\n",
              "      <td>0</td>\n",
              "      <td>0</td>\n",
              "      <td>0</td>\n",
              "    </tr>\n",
              "    <tr>\n",
              "      <th>8</th>\n",
              "      <td>87689776</td>\n",
              "      <td>Aauri Lorena Bokesa</td>\n",
              "      <td>ESP</td>\n",
              "      <td>female</td>\n",
              "      <td>12/14/88</td>\n",
              "      <td>1.80</td>\n",
              "      <td>62.0</td>\n",
              "      <td>athletics</td>\n",
              "      <td>0</td>\n",
              "      <td>0</td>\n",
              "      <td>0</td>\n",
              "    </tr>\n",
              "    <tr>\n",
              "      <th>9</th>\n",
              "      <td>997877719</td>\n",
              "      <td>Ababel Yeshaneh</td>\n",
              "      <td>ETH</td>\n",
              "      <td>female</td>\n",
              "      <td>7/22/91</td>\n",
              "      <td>1.65</td>\n",
              "      <td>54.0</td>\n",
              "      <td>athletics</td>\n",
              "      <td>0</td>\n",
              "      <td>0</td>\n",
              "      <td>0</td>\n",
              "    </tr>\n",
              "  </tbody>\n",
              "</table>\n",
              "</div>"
            ],
            "text/plain": [
              "          id                 name nationality  ... gold silver  bronze\n",
              "0  736041664       A Jesus Garcia         ESP  ...    0      0       0\n",
              "1  532037425           A Lam Shin         KOR  ...    0      0       0\n",
              "2  435962603          Aaron Brown         CAN  ...    0      0       1\n",
              "3  521041435           Aaron Cook         MDA  ...    0      0       0\n",
              "4   33922579           Aaron Gate         NZL  ...    0      0       0\n",
              "5  173071782          Aaron Royle         AUS  ...    0      0       0\n",
              "6  266237702        Aaron Russell         USA  ...    0      0       1\n",
              "7  382571888        Aaron Younger         AUS  ...    0      0       0\n",
              "8   87689776  Aauri Lorena Bokesa         ESP  ...    0      0       0\n",
              "9  997877719      Ababel Yeshaneh         ETH  ...    0      0       0\n",
              "\n",
              "[10 rows x 11 columns]"
            ]
          },
          "metadata": {
            "tags": []
          },
          "execution_count": 4
        }
      ]
    },
    {
      "cell_type": "code",
      "metadata": {
        "id": "Q-snfHPy7KTs",
        "colab_type": "code",
        "colab": {}
      },
      "source": [
        "from bokeh.plotting import figure, show, ColumnDataSource\n",
        "from ipywidgets import interact, widgets"
      ],
      "execution_count": 0,
      "outputs": []
    },
    {
      "cell_type": "code",
      "metadata": {
        "id": "A8UK6OcN7pLg",
        "colab_type": "code",
        "colab": {
          "base_uri": "https://localhost:8080/",
          "height": 51
        },
        "outputId": "1d2aad3a-bf1f-4818-c59a-dd589688e23d"
      },
      "source": [
        "countries = dataset['nationality'].unique()\n",
        "athletes_per_country = dataset.groupby('nationality').size()\n",
        "medals_per_country = dataset.groupby('nationality')['gold', 'silver','bronze'].sum()"
      ],
      "execution_count": 6,
      "outputs": [
        {
          "output_type": "stream",
          "text": [
            "/usr/local/lib/python3.6/dist-packages/ipykernel_launcher.py:3: FutureWarning: Indexing with multiple keys (implicitly converted to a tuple of keys) will be deprecated, use a list instead.\n",
            "  This is separate from the ipykernel package so we can avoid doing imports until\n"
          ],
          "name": "stderr"
        }
      ]
    },
    {
      "cell_type": "code",
      "metadata": {
        "id": "Al2k03_I7pN6",
        "colab_type": "code",
        "colab": {}
      },
      "source": [
        "max_medals = medals_per_country.sum(axis=1).max()\n",
        "max_athletes = athletes_per_country.max() "
      ],
      "execution_count": 0,
      "outputs": []
    },
    {
      "cell_type": "code",
      "metadata": {
        "id": "w42-sx_l7pR-",
        "colab_type": "code",
        "colab": {}
      },
      "source": [
        "# setting up the interaction elements\n",
        "max_athletes_slider=widgets.IntSlider(value=max_athletes, min=0, max=max_athletes, step=1, description='Max. Athletes:', continuous_update=False, orientation='vertical', layout={'width': '100px'})\n",
        "max_medals_slider=widgets.IntSlider(value=max_medals, min=0, max=max_medals, step=1, description='Max. Medals:', continuous_update=False, orientation='horizontal')"
      ],
      "execution_count": 0,
      "outputs": []
    },
    {
      "cell_type": "code",
      "metadata": {
        "id": "Z-2B5TZn8aTa",
        "colab_type": "code",
        "colab": {}
      },
      "source": [
        "@interact(max_athletes=max_athletes_slider, max_medals=max_medals_slider)\n",
        "def get_olympia_stats(max_athletes, max_medals):\n",
        "    show(get_plot(max_athletes, max_medals))"
      ],
      "execution_count": 0,
      "outputs": []
    },
    {
      "cell_type": "code",
      "metadata": {
        "id": "29LjTTLo8aXJ",
        "colab_type": "code",
        "colab": {}
      },
      "source": [
        "# creating the scatter plot\n",
        "def get_plot(max_athletes, max_medals):\n",
        "    filtered_countries=[]\n",
        "    \n",
        "    for country in countries:\n",
        "        if (athletes_per_country[country] <= max_athletes and \n",
        "            medals_per_country.loc[country].sum() <= max_medals):\n",
        "            filtered_countries.append(country)\n",
        "        \n",
        "    data_source=get_datasource(filtered_countries)\n",
        "    TOOLTIPS=[\n",
        "        ('Country', '@countries'),\n",
        "        ('Num of Athletes', '@y'),\n",
        "        ('Gold', '@gold'),\n",
        "        ('Silver', '@silver'),\n",
        "        ('Bronze', '@bronze')\n",
        "    ]\n",
        "    \n",
        "    plot=figure(title='Rio Olympics 2016 - Medal comparison', \n",
        "                x_axis_label='Number of Medals',  \n",
        "                y_axis_label='Num of Athletes',\n",
        "                plot_width=800, \n",
        "                plot_height=500,\n",
        "                tooltips=TOOLTIPS)\n",
        "    \n",
        "    plot.circle('x', 'y', source=data_source, size=20, color='color', alpha=0.5) \n",
        "    return plot  "
      ],
      "execution_count": 0,
      "outputs": []
    },
    {
      "cell_type": "code",
      "metadata": {
        "id": "A02emM7y9uMH",
        "colab_type": "code",
        "colab": {}
      },
      "source": [
        "# get a 6 digit random hex color to differentiate the countries better\n",
        "import random\n",
        "def get_random_color():\n",
        "    return '#%06x' % random.randint(0, 0xFFFFFF)"
      ],
      "execution_count": 0,
      "outputs": []
    },
    {
      "cell_type": "code",
      "metadata": {
        "id": "_7sO8Jat9uOy",
        "colab_type": "code",
        "colab": {}
      },
      "source": [
        "# build the datasource\n",
        "def get_datasource(filtered_countries):\n",
        "    return ColumnDataSource(data=dict(\n",
        "        color=[get_random_color() for _ in filtered_countries],\n",
        "        countries=filtered_countries,\n",
        "        gold=[medals_per_country.loc[country]['gold'] for country in filtered_countries],\n",
        "        silver=[medals_per_country.loc[country]['silver'] for country in filtered_countries],\n",
        "        bronze=[medals_per_country.loc[country]['bronze'] for country in filtered_countries],\n",
        "        x=[medals_per_country.loc[country].sum() for country in filtered_countries],\n",
        "        y=[athletes_per_country.loc[country].sum() for country in filtered_countries]"
      ],
      "execution_count": 0,
      "outputs": []
    },
    {
      "cell_type": "code",
      "metadata": {
        "id": "Depz5Pk99uWj",
        "colab_type": "code",
        "colab": {}
      },
      "source": [
        ""
      ],
      "execution_count": 0,
      "outputs": []
    }
  ]
}